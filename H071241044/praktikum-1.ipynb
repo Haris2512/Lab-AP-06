{
 "cells": [
  {
   "cell_type": "code",
   "execution_count": 7,
   "metadata": {},
   "outputs": [
    {
     "name": "stdout",
     "output_type": "stream",
     "text": [
      "Perubahan persentase harga saham: 31.25%\n",
      "Rekomendasi: Beli\n"
     ]
    }
   ],
   "source": [
    "# Input harga saham kemarin\n",
    "harga_hari_ini\t\t\t= 105.0\n",
    "\n",
    "harga_kemarin\t\t\t= float(input(\"Masukkan harga saham kemarin: \"))\n",
    "\n",
    "perubahan_persentase\t= ((harga_hari_ini - harga_kemarin) / harga_kemarin) * 100\n",
    "\n",
    "rekomendasi\t\t\t\t= [\"Jual\", \"Tahan\", \"Beli\"][(perubahan_persentase > -3) + (perubahan_persentase > 5)]\n",
    "\n",
    "# Menampilkan hasil\n",
    "print(f\"Perubahan persentase harga saham: {perubahan_persentase:.2f}%\")\n",
    "print(f\"Rekomendasi: {rekomendasi}\")"
   ]
  },
  {
   "cell_type": "code",
   "execution_count": 9,
   "metadata": {},
   "outputs": [
    {
     "name": "stdout",
     "output_type": "stream",
     "text": [
      "'ya' merupakan bagian dari 'ayam'\n"
     ]
    }
   ],
   "source": [
    "# Input dari pengguna\n",
    "karakter\t\t\t\t= input(\"Masukkan karakter yang ingin dicari: \")\n",
    "kalimat\t\t\t\t\t= input(\"Masukkan kalimat: \")\n",
    "\n",
    "# Menggunakan operator `in` untuk memeriksa keberadaan karakter dan memilih pesan\n",
    "pesan\t\t\t\t\t= [\"tidak ditemukan dalam\", \"merupakan bagian dari\"][karakter in kalimat]\n",
    "\n",
    "# Menampilkan pesan\n",
    "print(f\"'{karakter}' {pesan} '{kalimat}'\")"
   ]
  },
  {
   "cell_type": "code",
   "execution_count": 10,
   "metadata": {},
   "outputs": [
    {
     "name": "stdout",
     "output_type": "stream",
     "text": [
      "16:04:24\n"
     ]
    }
   ],
   "source": [
    "# Input jumlah detik dari pengguna\n",
    "total_detik\t\t\t\t= int(input(\"Masukkan jumlah detik: \"))\n",
    "\n",
    "# Menghitung jumlah jam, menit, dan detik\n",
    "jam\t\t\t\t\t\t= total_detik // 3600  # 1 jam = 3600 detik\n",
    "menit\t\t\t\t\t= (total_detik % 3600) // 60  # Sisa detik setelah diambil jam dibagi 60 untuk menit\n",
    "detik\t\t\t\t\t= total_detik % 60  # Sisa detik setelah diambil jam dan menit\n",
    "\n",
    "# Menampilkan hasil\n",
    "print(f\"{jam:02}:{menit:02}:{detik:02}\")"
   ]
  },
  {
   "cell_type": "code",
   "execution_count": 12,
   "metadata": {},
   "outputs": [
    {
     "name": "stdout",
     "output_type": "stream",
     "text": [
      "Suhu dalam Kelvin: 323 K\n",
      "Suhu dalam Reamur: 40 °R\n",
      "Suhu dalam Fahrenheit: 122 °F\n"
     ]
    }
   ],
   "source": [
    "# Input suhu dalam Celcius dari pengguna\n",
    "suhu_celcius\t\t\t= float(input(\"Masukkan suhu dalam Celcius: \"))\n",
    "\n",
    "# Menghitung konversi ke skala lain\n",
    "suhu_kelvin\t\t\t\t= suhu_celcius + 273.15\t\t\t# Konversi ke Kelvin\n",
    "suhu_reamur\t\t\t\t= suhu_celcius * 0.8\t\t\t# Konversi ke Reamur\n",
    "suhu_fahrenheit\t\t\t= (suhu_celcius * 1.8) + 32\t\t# Konversi ke Fahrenheit\n",
    "\n",
    "# Menampilkan hasil konversi\n",
    "print(f\"Suhu dalam Kelvin: {suhu_kelvin:.2f} K\")\n",
    "print(f\"Suhu dalam Reamur: {suhu_reamur:.2f} °R\")\n",
    "print(f\"Suhu dalam Fahrenheit: {suhu_fahrenheit:.2f} °F\")"
   ]
  }
 ],
 "metadata": {
  "kernelspec": {
   "display_name": "Python 3",
   "language": "python",
   "name": "python3"
  },
  "language_info": {
   "codemirror_mode": {
    "name": "ipython",
    "version": 3
   },
   "file_extension": ".py",
   "mimetype": "text/x-python",
   "name": "python",
   "nbconvert_exporter": "python",
   "pygments_lexer": "ipython3",
   "version": "3.12.5"
  }
 },
 "nbformat": 4,
 "nbformat_minor": 2
}
